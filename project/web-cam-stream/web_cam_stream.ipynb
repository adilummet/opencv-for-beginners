{
 "cells": [
  {
   "cell_type": "code",
   "execution_count": 3,
   "id": "52425c73",
   "metadata": {},
   "outputs": [],
   "source": [
    "import cv2\n",
    "cap = cv2.VideoCapture(0)\n",
    "while(True):\n",
    "    ret, frame = cap.read() # Capture frame-by-frame\n",
    "    gray = cv2.cvtColor(frame, cv2.COLOR_BGR2GRAY)\n",
    "    (T, bw) = cv2.threshold(gray, 100, 255, cv2.THRESH_BINARY)\n",
    "    cv2.imshow('frame', frame)\n",
    "    if cv2.waitKey(1) & 0xFF == ord('q'):\n",
    "        cv2.imwrite('bgr image.jpg', frame, [cv2.IMWRITE_JPEG_QUALITY, 100])\n",
    "        cv2.imwrite('gray scale image.jpg', gray, [cv2.IMWRITE_JPEG_QUALITY, 100])\n",
    "        cv2.imwrite('thresholded image.jpg', bw, [cv2.IMWRITE_JPEG_QUALITY, 100])\n",
    "        break\n",
    "cap.release()\n",
    "cv2.destroyAllWindows()"
   ]
  },
  {
   "cell_type": "code",
   "execution_count": null,
   "id": "d4f53989",
   "metadata": {},
   "outputs": [],
   "source": []
  }
 ],
 "metadata": {
  "kernelspec": {
   "display_name": "Python 3 (ipykernel)",
   "language": "python",
   "name": "python3"
  },
  "language_info": {
   "codemirror_mode": {
    "name": "ipython",
    "version": 3
   },
   "file_extension": ".py",
   "mimetype": "text/x-python",
   "name": "python",
   "nbconvert_exporter": "python",
   "pygments_lexer": "ipython3",
   "version": "3.9.6"
  }
 },
 "nbformat": 4,
 "nbformat_minor": 5
}
