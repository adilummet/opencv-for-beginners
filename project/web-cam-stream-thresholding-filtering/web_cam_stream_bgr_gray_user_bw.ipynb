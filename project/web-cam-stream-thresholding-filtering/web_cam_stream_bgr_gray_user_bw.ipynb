{
 "cells": [
  {
   "cell_type": "code",
   "execution_count": null,
   "id": "8e2f06cf",
   "metadata": {},
   "outputs": [],
   "source": [
    "import cv2\n",
    "import numpy as np\n",
    "\n",
    "def gray_to_bw(img, T):\n",
    "    bwUser = np.zeros_like(img)\n",
    "    for i in range(img.shape[0]):\n",
    "        for j in range(img.shape[1]):\n",
    "            if (img[i][j] <= T):\n",
    "                bwUser[i][j] = 0\n",
    "            else:\n",
    "                bwUser[i][j] = 255\n",
    "    return bwUser\n",
    "\n",
    "\n",
    "cap = cv2.VideoCapture(1)\n",
    "if (not cap.isOpened()):\n",
    "    print('Web kamerasına erişimde sorun yaşandı!')\n",
    "else:\n",
    "    print('Kameranın FPS değeri %i.' %cap.get(cv2.CAP_PROP_FPS))\n",
    "while (cap.isOpened() == True):\n",
    "    ret, frame = cap.read()\n",
    "    s = 0.75 # ölçek (scale)\n",
    "    dim = (int(s*frame.shape[1]), int(s*frame.shape[0]))\n",
    "    frame = cv2.resize(frame, dim, interpolation = cv2.INTER_AREA)\n",
    "    gray = cv2.cvtColor(frame, cv2.COLOR_BGR2GRAY)\n",
    "    # (T, bw) = cv2.threshold(gray, 150, 255, cv2.THRESH_BINARY)\n",
    "    bw = gray_to_bw(gray, 60)\n",
    "    if ret == True:\n",
    "        cv2.imshow('BGR image', frame)\n",
    "        cv2.imshow('Gray Scale image', gray)\n",
    "        cv2.imshow('Thresholded (Binary) image', bw)\n",
    "        if cv2.waitKey(1) & 0xFF == ord('q'):\n",
    "            cv2.imwrite('BGR webcam image.jpg', frame, [cv2.IMWRITE_JPEG_QUALITY, 100])\n",
    "            cv2.imwrite('gray scale webcam image.jpg', gray, [cv2.IMWRITE_JPEG_QUALITY, 100])\n",
    "            cv2.imwrite('thresholded webcam image.jpg', bw, [cv2.IMWRITE_JPEG_QUALITY, 100])\n",
    "            break\n",
    "    else:\n",
    "        print('Kare yakalanamadı!')\n",
    "        break\n",
    "cap.release()\n",
    "cv2.destroyAllWindows()"
   ]
  }
 ],
 "metadata": {
  "kernelspec": {
   "display_name": "Python 3 (ipykernel)",
   "language": "python",
   "name": "python3"
  },
  "language_info": {
   "codemirror_mode": {
    "name": "ipython",
    "version": 3
   },
   "file_extension": ".py",
   "mimetype": "text/x-python",
   "name": "python",
   "nbconvert_exporter": "python",
   "pygments_lexer": "ipython3",
   "version": "3.9.6"
  }
 },
 "nbformat": 4,
 "nbformat_minor": 5
}
