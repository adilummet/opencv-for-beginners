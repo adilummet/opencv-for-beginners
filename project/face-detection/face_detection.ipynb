{
 "cells": [
  {
   "cell_type": "code",
   "execution_count": null,
   "id": "06b11d97",
   "metadata": {},
   "outputs": [
    {
     "name": "stdout",
     "output_type": "stream",
     "text": [
      "[BİLGİ] Haar cascade yüz tanıma metodunu yüklüyor...\n"
     ]
    }
   ],
   "source": [
    "import cv2\n",
    "# haar cascade yüz tanıma metodunu yükle\n",
    "print(\"[BİLGİ] Haar cascade yüz tanıma metodunu yüklüyor...\")\n",
    "detector = cv2.CascadeClassifier('haarcascade_frontalface_default.xml')\n",
    "cap = cv2.VideoCapture(1)\n",
    "if (not cap.isOpened()):\n",
    "    print('Web kamerasına erişimde sorun yaşandı!')\n",
    "i = 0\n",
    "while (cap.isOpened() == True):\n",
    "    ret, frame = cap.read()\n",
    "    gray = cv2.cvtColor(frame, cv2.COLOR_BGR2GRAY)\n",
    "    # yakalanan kare üzerinde yüz tespiti yap\n",
    "    rects = detector.detectMultiScale(gray, scaleFactor=1.05, minNeighbors=5, minSize=(30, 30), flags=cv2.CASCADE_SCALE_IMAGE)\n",
    "    # yüzü kare içine al\n",
    "    for (x, y, w, h) in rects:\n",
    "        cv2.rectangle(frame, (x, y), (x + w, y + h), (0, 255, 0), 2)\n",
    "    if ret == True:\n",
    "        cv2.imshow('face detection', frame)\n",
    "        if cv2.waitKey(1) & 0xFF == ord('s'):\n",
    "            imageName = 'face detection %i.jpg' %i\n",
    "            cv2.imwrite(imageName, frame, [cv2.IMWRITE_JPEG_QUALITY, 100])\n",
    "            print('Resim %s ismiyle kaydedildi.' %imageName)\n",
    "            i = i + 1\n",
    "        elif cv2.waitKey(1) & 0xFF == ord('q'):\n",
    "            print('Güle güle!')\n",
    "            break\n",
    "        else:\n",
    "            continue\n",
    "    else:\n",
    "        print('Kare yakalanamadı!')\n",
    "        break\n",
    "cap.release()\n",
    "cv2.destroyAllWindows()"
   ]
  },
  {
   "cell_type": "code",
   "execution_count": null,
   "id": "b9c703fa",
   "metadata": {},
   "outputs": [],
   "source": []
  }
 ],
 "metadata": {
  "kernelspec": {
   "display_name": "Python 3 (ipykernel)",
   "language": "python",
   "name": "python3"
  },
  "language_info": {
   "codemirror_mode": {
    "name": "ipython",
    "version": 3
   },
   "file_extension": ".py",
   "mimetype": "text/x-python",
   "name": "python",
   "nbconvert_exporter": "python",
   "pygments_lexer": "ipython3",
   "version": "3.9.6"
  }
 },
 "nbformat": 4,
 "nbformat_minor": 5
}
